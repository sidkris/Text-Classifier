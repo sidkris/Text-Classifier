{
  "nbformat": 4,
  "nbformat_minor": 0,
  "metadata": {
    "colab": {
      "name": "text_classifier.ipynb",
      "provenance": [],
      "collapsed_sections": []
    },
    "kernelspec": {
      "name": "python3",
      "display_name": "Python 3"
    },
    "language_info": {
      "name": "python"
    }
  },
  "cells": [
    {
      "cell_type": "code",
      "metadata": {
        "id": "yiGhawK82DKw"
      },
      "source": [
        "import pandas as pd\n",
        "import spacy\n",
        "import matplotlib.pyplot as plt\n",
        "import seaborn as sns\n",
        "sns.set(style = \"darkgrid\")\n",
        "sns.set(font_scale = 1.3)\n"
      ],
      "execution_count": 1,
      "outputs": []
    },
    {
      "cell_type": "code",
      "metadata": {
        "colab": {
          "resources": {
            "http://localhost:8080/nbextensions/google.colab/files.js": {
              "data": "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",
              "ok": true,
              "headers": [
                [
                  "content-type",
                  "application/javascript"
                ]
              ],
              "status": 200,
              "status_text": ""
            }
          },
          "base_uri": "https://localhost:8080/",
          "height": 73
        },
        "id": "SbeIOR4M56gx",
        "outputId": "0ee2443c-300d-4517-a7eb-38c3dae446ff"
      },
      "source": [
        "from google.colab import files\n",
        "upload = files.upload()"
      ],
      "execution_count": 2,
      "outputs": [
        {
          "output_type": "display_data",
          "data": {
            "text/html": [
              "\n",
              "     <input type=\"file\" id=\"files-c41edcb1-f36f-405d-8b6c-a3ef180f9756\" name=\"files[]\" multiple disabled\n",
              "        style=\"border:none\" />\n",
              "     <output id=\"result-c41edcb1-f36f-405d-8b6c-a3ef180f9756\">\n",
              "      Upload widget is only available when the cell has been executed in the\n",
              "      current browser session. Please rerun this cell to enable.\n",
              "      </output>\n",
              "      <script src=\"/nbextensions/google.colab/files.js\"></script> "
            ],
            "text/plain": [
              "<IPython.core.display.HTML object>"
            ]
          },
          "metadata": {}
        },
        {
          "output_type": "stream",
          "name": "stdout",
          "text": [
            "Saving steamreviews.zip to steamreviews.zip\n"
          ]
        }
      ]
    },
    {
      "cell_type": "code",
      "metadata": {
        "colab": {
          "base_uri": "https://localhost:8080/"
        },
        "id": "mELRkekW6935",
        "outputId": "1815c648-e6a4-4d23-ce40-f8a92dd7acdf"
      },
      "source": [
        "!unzip steamreviews"
      ],
      "execution_count": 3,
      "outputs": [
        {
          "output_type": "stream",
          "name": "stdout",
          "text": [
            "Archive:  steamreviews.zip\n",
            "  inflating: train.csv               \n"
          ]
        }
      ]
    },
    {
      "cell_type": "code",
      "metadata": {
        "id": "M9qt9Gnp71Uo"
      },
      "source": [
        "df = pd.read_csv(\"train.csv\")"
      ],
      "execution_count": 4,
      "outputs": []
    },
    {
      "cell_type": "markdown",
      "metadata": {
        "id": "P6Prs0PZ-q0J"
      },
      "source": [
        "# Exploratory Data Analysis\n"
      ]
    },
    {
      "cell_type": "code",
      "metadata": {
        "colab": {
          "base_uri": "https://localhost:8080/",
          "height": 530
        },
        "id": "l-9jK4bN759Y",
        "outputId": "454d3271-ec21-4a41-83eb-42274d0d7d5a"
      },
      "source": [
        "sns.factorplot(x = \"user_suggestion\", data = df, kind = \"count\", size = 6, aspect = 1.5, palette = \"gist_rainbow\")\n",
        "plt.show()"
      ],
      "execution_count": 5,
      "outputs": [
        {
          "output_type": "stream",
          "name": "stderr",
          "text": [
            "/usr/local/lib/python3.7/dist-packages/seaborn/categorical.py:3717: UserWarning: The `factorplot` function has been renamed to `catplot`. The original name will be removed in a future release. Please update your code. Note that the default `kind` in `factorplot` (`'point'`) has changed `'strip'` in `catplot`.\n",
            "  warnings.warn(msg)\n",
            "/usr/local/lib/python3.7/dist-packages/seaborn/categorical.py:3723: UserWarning: The `size` parameter has been renamed to `height`; please update your code.\n",
            "  warnings.warn(msg, UserWarning)\n"
          ]
        },
        {
          "output_type": "display_data",
          "data": {
            "image/png": "[encoded data removed]",
            "text/plain": [
              "<Figure size 648x432 with 1 Axes>"
            ]
          },
          "metadata": {
            "needs_background": "light"
          }
        }
      ]
    },
    {
      "cell_type": "markdown",
      "metadata": {
        "id": "nduomFYHznWw"
      },
      "source": [
        "# Building the classifier\n"
      ]
    },
    {
      "cell_type": "code",
      "metadata": {
        "colab": {
          "base_uri": "https://localhost:8080/"
        },
        "id": "a-s7wbSM78Yg",
        "outputId": "2682ae90-ac7e-40f7-8c3e-f70511a977d9"
      },
      "source": [
        "nlp = spacy.load(\"en_core_web_sm\")\n",
        "nlp.pipe_names"
      ],
      "execution_count": 6,
      "outputs": [
        {
          "output_type": "execute_result",
          "data": {
            "text/plain": [
              "['tagger', 'parser', 'ner']"
            ]
          },
          "metadata": {},
          "execution_count": 6
        }
      ]
    },
    {
      "cell_type": "code",
      "metadata": {
        "colab": {
          "base_uri": "https://localhost:8080/"
        },
        "id": "s0XZUmR_zxLi",
        "outputId": "384de71a-7f85-4111-ee39-8a26873ca84b"
      },
      "source": [
        "# adding the built-in textcat component to the pipleline\n",
        "\n",
        "textcat = nlp.create_pipe(\"textcat\", config = {\"exclusive_classes\": True, \"architecture\": \"bow\"})\n",
        "nlp.add_pipe(textcat, last = True)\n",
        "nlp.pipe_names"
      ],
      "execution_count": 7,
      "outputs": [
        {
          "output_type": "execute_result",
          "data": {
            "text/plain": [
              "['tagger', 'parser', 'ner', 'textcat']"
            ]
          },
          "metadata": {},
          "execution_count": 7
        }
      ]
    },
    {
      "cell_type": "code",
      "metadata": {
        "colab": {
          "base_uri": "https://localhost:8080/"
        },
        "id": "I2335g2Z0Zgi",
        "outputId": "63ef9657-a20b-4b4d-8420-c5486554d618"
      },
      "source": [
        "# adding labels to textcat\n",
        "\n",
        "textcat.add_label(\"RECOMMENDED\")\n",
        "textcat.add_label(\"AVOID\")"
      ],
      "execution_count": 8,
      "outputs": [
        {
          "output_type": "execute_result",
          "data": {
            "text/plain": [
              "1"
            ]
          },
          "metadata": {},
          "execution_count": 8
        }
      ]
    },
    {
      "cell_type": "code",
      "metadata": {
        "colab": {
          "base_uri": "https://localhost:8080/"
        },
        "id": "BTZt9uHp2HCV",
        "outputId": "e6d3dfc2-9c9d-4b40-a5f3-7dff64ae0760"
      },
      "source": [
        "# converting the dataframe into a list of tuples\n",
        "df[\"tuples\"] = df.apply(lambda row: (row[\"user_review\"], row[\"user_suggestion\"]), axis = 1)\n",
        "train = df[\"tuples\"].tolist()\n",
        "train[:10]"
      ],
      "execution_count": 9,
      "outputs": [
        {
          "output_type": "execute_result",
          "data": {
            "text/plain": [
              "[(\"I'm scared and hearing creepy voices.  So I'll pause for a moment and write a review while I wait for my heart beat to return to atleast somewhat calmer times.  This game is adorable and creepy like my happy tree friends but with the graphics sceme of my childhood (but more bubble and 'clean').  Hello 1990's.What charactes there are (that isnot trying to kill me) were likable and a bit odd.  I did do a few noob things though, such as:Oh look a class room full of ghosts from dead children, lets shine my flashlight on them and stand there staring at them..Or, hmm creepy music, I'll turn around and see if I can see what's chasing me.Never before in a game have I been this afraid of finding a locked door.\",\n",
              "  1),\n",
              " (\"Best game, more better than Sam Pepper's YouTube account. 10/10What you'll need to play:A computerSome extra pants.Pros:Scary as hell.Fun.Adventure.Spooky.Did I forgot to mention that its scary as hell?You'll get more pants/briefs in your wardrobe.Time consuming if you're bored.Cons:Buying pants/briefs. You haven't downloaded it yet.\",\n",
              "  1),\n",
              " (\"A littly iffy on the controls, but once you know how to play, very easy to master. I've made it to floor 1000 before, but due to certain circumstances was unable to finish. Was not game related, don't worry, not a bug/glitch or antyhing.I highly recommend this for casual play, maybe with a friend or two watching. Hilarity ensues, especially once you hit floor 150. Have fun my fellow fleshlings!\",\n",
              "  1),\n",
              " (\"Great game, fun and colorful and all that.A side note, though: When are we getting windowed mode? My computer hates fullscreen so.... yeah. The computer doesn't like to run this. Shame, because this is really enjoyable. But until then, I guess I'll settle for more Skyrim. Cheers!\",\n",
              "  1),\n",
              " ('Not many games have the cute tag right next to the horror tag on Steam.I first played this game in late 2014 and coming back to it for the first time since. This game is so good for it being free, take advantage and experience it. Try and get to  room 1000 or as close as you can. The further you progress the darker the game becomes.',\n",
              "  1),\n",
              " (\"Early Access ReviewIt's pretty cute at first, but then later gets horrifying and it really does jumpscare! The specimen scared me more! Still enjoyable and worth playing, though. Great and well-made game!10/10\",\n",
              "  1),\n",
              " (\"Great game. it's a cute little horror game that progressively gets darker and scarier. It has a sense of humor too! (I've played it a little but I have watched several people play it and I love it!)\",\n",
              "  1),\n",
              " (\"Spooky's Jump Scare Mansion is a Free Retro maze game with jump scares and death.  It worked on Win 10, looked ok, played ok, sounded ok.  I took a wrong turn somehow and keep getting killed by a ghostly creature around room 61, i guess i need to restart and take a different route.  Has a retro look, sort of like Castle Wolfenstein or Doom.   Has creepy music and sounds.  It has 1,000 rooms to go through.  Try this game, you might like it.For more info:https://www.youtube.com/watch?v=4mKsY6rVdDohttps://www.youtube.com/watch?v=G3olm3IprwQhttps://www.youtube.com/watch?v=VZEJVpaRhkIhttp://www.polygon.com/2015/4/27/8502907/spookys-house-of-jump-scares-gameplay-overview-videohttps://www.rockpapershotgun.com/2016/01/14/spookys-house-of-jump-scares-free-game/#more-340713http://www.indiedb.com/games/spookys-house-of-jump-scares/reviewshttp://www.bagogames.com/spookier-meets-eye-spookys-house-jump-scares-review/ \",\n",
              "  1),\n",
              " (\"Somewhere between light hearted, happy parody and being afraid of the dark lies Spooky's House of Jump Scares. You are tasked with the daunting duty of surviving one thousand rooms in this endless first person perspective runner. Each room is no more than a few seconds thanks to a sprint key and the fact that each door counts as a new room. Even then one thousand rooms is still a feat against tedium and needless repetition. There are still things every fifteen or so rooms to keep your interest and at the end of fifty rooms you'll find a save point, but nothing can save you from permanent death at the hands of the foul creatures that live within.On the surface the game has a clean, chipper almost cartoon low budget charm to it. Jump scares are rare and at first it comes in the form of adorable cardboard cutouts of pumpkins, ghosts and skeletons that pop out of the wall accompanied by a sound. Some of the sounds are silly and unfitting other times its screeches to drive chills down your spine. The game excels in the sound department and makes good use of music, ambient sounds and foot steps following you.As you delve deeper through the doors of this dank dungeon, you'll uncover more frightening things and points of intreege. There are plenty of written notes here and there. A few times you'll need to search for a key in a different room, but the other ninety-nine percent of the game is leaving rooms behind forever.The themes of the rooms begin to change from the mundane almost Wolfenstien 3D-esque corridors to metal asylum rooms that give you a flashlight to find your way through. There are purple dungeons, green sewers with glowing scum. Some rooms are coated with slime to slow you own while others have holes in the ceiling as if to give you a feeling of dread that something could pop out.There are a limited amount of rooms and I started to memorize them all. Even the game's crescendo encounters in a vacant room with walkways. There's no way to fall into the dark chasms, it acts as if they were walls, but with this open room you get to see a specific creature that might be following you. Sometimes they can float over the gaps, other times they're stuck trying to walk at you from across the gap so you can get a good look at them when they're harmless.If they touch you three or so times you're dead. You have health that does replenish over time and these big moments are rare and easy to avoid. Just keep running and hope there are no locked doors! They only happen in specific rooms and sometimes the rooms are empty, but it still gives that dreadful feeling.You can tear through these rooms pretty quick about 350 of them in a 45 minute. Your stamina will deplete to give a monster the chance to catch you, but going through a door restores your will to run. Other than that waiting a few seconds will replenish your stamina. Longer rooms hav1e limited visibility. The further out an area is the darker it gets.A few rooms have good diversions or tricks to them. Such as one that turns bright and you need to enter the correct combination of corridors signaled by chimes until you can see the door. Another room is endless darkness with a torch at the end, until its revealed that the torch is merely painted on a black wall. A few times you'll need to search an adjacent room for a key to the one you're in.Every fifty rooms, you take a moment to unwind in an elevator that reminds you to hang in there or have a coffee break. The game makes a good balance of calm moments for each of the few tense situations. Its what keeps you off kilter and never expecting anything. Every two hundred and fifty rooms offers a prize to you. What's in the box? Is it snakes? Is it a jack-in-the-box or is it a note?Truth be told I'm very goal oriented with video games and so Spooky missed its mark for me. The cardboard cutouts get in the way. Being chased by something means that it was no threat since it was already behind me. Perhaps in later rooms it gets more difficult, but this is just easy tedium.  Another room, another room, another room. Then knowing I have seven hundred more rooms and another two hour investment of endless running turns the game into a grind. There's no fear and its too long to endure even with save points. The game reuses its points of interest a few times since it recycles rooms.Another issue I have with the game is getting stuck on edges where I need to push away from a wall to get free and turn a corner. Its more than walls, its on the gaps too. I suppose this is acceptable for a scary game where you get chased, but I'm hung up on these hang ups.One interesting thing the game does have is a stabbing mini game where it looks like you're a ghost in a mall. Its a good diversion from the repetition. There's even a computer that shows you all the creatures in the house. Well most of them at least.The best selling point this game has is that its free. By no means does that make this a good game, but it makes it easier to accept. Its a game that brings you up with charm to tear you down with scares beyond the cheap cardboard cutouts that can litter a hallway every so often. Its just far too repetitive without that much dread or excitement.\",\n",
              "  0),\n",
              " (\"This game with its cute little out of the wall pop-ups that scared the living light out of me I like it very much I haven't played it lately but this is a very good game, I like how its a funny jump scare game and it is very very fun but the story is pretty sad. so good luck and have fun in the rooms :D\",\n",
              "  1)]"
            ]
          },
          "metadata": {},
          "execution_count": 9
        }
      ]
    },
    {
      "cell_type": "code",
      "metadata": {
        "colab": {
          "base_uri": "https://localhost:8080/"
        },
        "id": "D1lACG0E2tpa",
        "outputId": "2e5a661b-bb47-42a3-c7e0-22c5967fb0d0"
      },
      "source": [
        "import random\n",
        "\n",
        "def load_data(limit = 0, split = 0.8):\n",
        "  train_data = train\n",
        "  random.shuffle(train_data)\n",
        "  texts, labels = zip(*train_data)\n",
        "  # get category for each review\n",
        "  cats = [{\"RECOMMENDED\": bool(y), \"AVOID\": not bool(y)} for y in labels]\n",
        "\n",
        "  # splitting the training and evaluation data\n",
        "  split = int(len(train_data) * split)\n",
        "  return(texts[:split], cats[:split]), (texts[split:], cats[split])\n",
        "\n",
        "\n",
        "n_texts = 0.8 * len(train)\n",
        "\n",
        "# calling the load_data function\n",
        "(train_texts, train_cats), (dev_texts, dev_cats) = load_data(limit = n_texts)\n",
        "\n",
        "# processing the final format of the training data\n",
        "train_data = list(zip(train_texts, [{\"cats\": cats} for cats in train_cats]))\n",
        "train_data[:10]\n"
      ],
      "execution_count": 10,
      "outputs": [
        {
          "output_type": "execute_result",
          "data": {
            "text/plain": [
              "[(\"I love the game. While I dont got many hours on pc, I have played for what I think is over 600 hours on console. This game is amazing. Games now are dedicated to money and providing little content. This game just ♥♥♥♥ing blows my mind with the levels of intensity of these battles. I would love to see this game be tooken by a big company and revived. This game isn't shown the love that it used to. Install this game and don't stop playing it. ♥♥♥♥ing endless gameplay.\",\n",
              "  {'cats': {'AVOID': False, 'RECOMMENDED': True}}),\n",
              " ('Early Access ReviewOmgThis game shouldn\\'t even be on steam but in some \"Beta Section\".This game isn\\'t finished at ALL!I hope it was a combination of CS1.6 and Call of Duty, because it look like it.This game could be awesome but it\\'s really trash. Sound is bugged, the footsteps sound like everyone had only 1 leg and legs out of wood. The ADS is also trash because it\\'s click to ADS not \"HOLD TO ADS\" i hate the hold to ADS function, never use it. Many times i wonder how i hit headshots doing leg shots but okay. There is some sort of bug when you crouch and someone runs under you you jump up idk but i died because of this to many times.This game:Idea 8/10 (very good)gameplay 3/10 (very bad)You don\\'t even know why you kill people.',\n",
              "  {'cats': {'AVOID': True, 'RECOMMENDED': False}}),\n",
              " ('The game is well designed and a lot of effort has been put into developing it. Great soundtrack and audio details.However, a user can play a very limited part of the game, unless you want to disburse a lot of cash for several kinds of in-game purchases! Second, the pairing and fighting combination dont make any sense! One can be a beginner stage and the game pairs you with legendary other unknown users! Plus it takes a long while in the game to understand the mechanisms of the several functionalities cards have, thus creating misunderstanding, confusion and frustration at the end of versus gaming. The user never gets feedback on what went wrong and how you lost! Highly not user friendly.If you have 200 hrs to learn how to manuever this game, go for it, otherwise it is very frustrating. No steam achievements and there is no communication platform with other users.',\n",
              "  {'cats': {'AVOID': True, 'RECOMMENDED': False}}),\n",
              " (\"Worlds okayest MOBA.EDIT: I quit the game and uninstalled. BEWARE: The community is cancer. Worse. Most of the time you'll be fighting your teammates in the chat rather than enemy gods on the field. Mute everyone and you'll be fine.\",\n",
              "  {'cats': {'AVOID': False, 'RECOMMENDED': True}}),\n",
              " (\"balanced.can't say that about LoL.easy to get characters.can't say that about LoL.variety.can't say that about LoL.all attacks you have to aim.can't say that about LoL.easy controls.can't say that about LoL.you get the idea. if you still like LoL, at least try this for 2 hours. if you still don't like this, that's fine. to each their own.\",\n",
              "  {'cats': {'AVOID': False, 'RECOMMENDED': True}}),\n",
              " (\"Early Access ReviewBought this game 2nd time, but still This game is unplayable. After finishing training, when I enter in town [Very 1st time] FPS drop constantly. Game not even let me choose 1920x1080, Maximize window doesnt help.I read so many positive things from dev, but sorry to admit, I might come to wrong place/wrong game. In year 2018 Tab/target is worst decision. May be I come for 3rd time if they change Tab/Target option. Sorry abt bad review, watching other's video and actually playing is different things. I followed some Streamers opinion and bought this game another time, again my worst decision.  \",\n",
              "  {'cats': {'AVOID': True, 'RECOMMENDED': False}}),\n",
              " ('## WARNING! ##Long post incoming.. First of all, in game description they say: \"Thousands of players..\" In my opinion there are about 2500 players active. In every 3-5 battles you start noticing the same names in the list. When i started playing the game, there was player counter showing 13k-15k online players. As soon as there was 8000 and lower, developers removed the counter. I wonder why? I have played the game over several years (about 1400 hours in steam and even before it came to steam), i have seen many updates, many hotfixes and nerfs. I can say that:#This game is dying.#Developers ARE NOT listening the community. #Developers don\\'t really know what they are doing. (Best example: creating tons of skins over 1.5 years and yet not a single new assault map) #Developers ARE allied biased (USA & SU) and taking things personally when someone is adressing questions about German faction / Nazis. #And the biggest f**kup is the 1.12 update the developers rushed in, unfinished, unpolished, unreal. The last update is the reason for this review. Till this point i hoped that game is getting better, but i was mistaken. Only reason why this game is still alive, is because its free. Developers, fix your game and listen players who have at least 1000 hours of gameplay in their account.',\n",
              "  {'cats': {'AVOID': True, 'RECOMMENDED': False}}),\n",
              " (\"Early Access ReviewThe game is REALLY well made. I love it! I just bought the game yesterday, but I've known about the game for months as i've seen Markiplier play it. Right now I'm at 100 room and that first monster that chaced me was scary! The whole time I was being chaced by it my mouth was gaping open the whole time xD Good work on the game! I can't wait to see more updates!\",\n",
              "  {'cats': {'AVOID': False, 'RECOMMENDED': True}}),\n",
              " ('This company Discriminates against steam players.  They offer rewards to people that use their arc system or their own website despite offering their game on STEAM.  People on steam pay just as much money and shouldn\\'t be discriminated against.  If this company doesn\\'t want people to use steam then don\\'t put the game on steam.  Frankly they should show more appreciation as I personally would have never installed this game if it was not on steam.   I have spent more money than I ever should have but the game was enjoyable until the discrimination became extremely apparent.  Contacting their customer service is a joke, as all they do is respond with something that looks pre-determined.  Even after being \"escalated\" I still got no satisfactory resolution, which I either wanted the promo piece that everyone I know got or a refund of the money I transferred (in came zen that is NOT spent) to get the item.  So far they don\\'t seem to want to help which officially makes these people disloyal to customers who do spend money.  In case someone reads this and thinks I am complaining for no reason, the people that got the reward are people who transferred money into zen and transferred it into neverwinter.  The fact that I use steam shouldn\\'t matter since I have spent 200+ dollars since December on this game and others i\\'m sure have too and those of us who use steam didn\\'t get it and are being effectively punished for being steam users.  I call for all steam players to boycott this game.  This company only used steam to get more players as no one would hardly be playing otherwise and yet they refuse to extend the same rewards to steam players that they give others.',\n",
              "  {'cats': {'AVOID': True, 'RECOMMENDED': False}}),\n",
              " ('Having trouble. It let me play the trainer then it would just say synchronizing data showing the picture of a tank. let it sit for ours no change. uninstalled and reinstalled several times no luck.',\n",
              "  {'cats': {'AVOID': True, 'RECOMMENDED': False}})]"
            ]
          },
          "metadata": {},
          "execution_count": 10
        }
      ]
    },
    {
      "cell_type": "code",
      "metadata": {
        "colab": {
          "base_uri": "https://localhost:8080/"
        },
        "id": "LPp-wCXF5Qf0",
        "outputId": "544cef4e-b9ce-4a45-ba35-70319bb4d87e"
      },
      "source": [
        "# training the model\n",
        "\n",
        "from spacy.util import minibatch, compounding\n",
        "\n",
        "n_iterations = 10\n",
        "\n",
        "# disabling other components\n",
        "other_pipes = [pipe for pipe in nlp.pipe_names if pipe != \"textcat\"]\n",
        "with nlp.disable_pipes(*other_pipes):\n",
        "  optimizer = nlp.begin_training()\n",
        "\n",
        "  print(\"training..\")\n",
        "\n",
        "  for i in range(n_iterations):\n",
        "    losses = {} # a type of dict, and takes an optional record of the loss during training\n",
        "    batches = minibatch(train_data, size = compounding(4.,32.,1.001))\n",
        "\n",
        "    for batch in batches:\n",
        "      texts, annotations = zip(*batch)\n",
        "      nlp.update(texts, annotations, sgd = optimizer, drop = 0.2, losses = losses)\n",
        "    \n",
        "print(\"training complete\")"
      ],
      "execution_count": 13,
      "outputs": [
        {
          "output_type": "stream",
          "name": "stdout",
          "text": [
            "training..\n"
          ]
        }
      ]
    },
    {
      "cell_type": "code",
      "metadata": {
        "colab": {
          "base_uri": "https://localhost:8080/"
        },
        "id": "Kn6sKgAXx47n",
        "outputId": "8e575b66-abf0-4ff8-fb2f-156a60b8ff4f"
      },
      "source": [
        "# testing the model\n",
        "\n",
        "review = \"This game is incredible!!\"\n",
        "doc = nlp(review)\n",
        "doc.cats"
      ],
      "execution_count": 23,
      "outputs": [
        {
          "output_type": "execute_result",
          "data": {
            "text/plain": [
              "{'AVOID': 0.1404338926076889, 'RECOMMENDED': 0.8595660924911499}"
            ]
          },
          "metadata": {},
          "execution_count": 23
        }
      ]
    },
    {
      "cell_type": "code",
      "metadata": {
        "id": "2aw96DrR1UvO"
      },
      "source": [
        ""
      ],
      "execution_count": null,
      "outputs": []
    }
  ]
}